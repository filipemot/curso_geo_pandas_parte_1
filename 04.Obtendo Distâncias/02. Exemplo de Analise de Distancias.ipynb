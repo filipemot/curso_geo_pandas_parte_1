{
 "cells": [
  {
   "cell_type": "code",
   "execution_count": 1,
   "id": "f5f7dd92",
   "metadata": {},
   "outputs": [],
   "source": [
    "# Importando bibliotecas\n",
    "import pandas as pd\n",
    "import geopandas as gpd\n",
    "from shapely.geometry import Point\n"
   ]
  },
  {
   "cell_type": "code",
   "execution_count": 5,
   "id": "db622419",
   "metadata": {},
   "outputs": [],
   "source": [
    "# Obtendo os dados do Metrô\n",
    "metro = gpd.read_file( '../01.Dados/geojson/Transporte/Metro/Estações_Metrô.geojson')\n"
   ]
  },
  {
   "cell_type": "code",
   "execution_count": 6,
   "id": "bc57b195",
   "metadata": {},
   "outputs": [],
   "source": [
    "# Criando o DataFrame com os dados do problema\n",
    "pontos = {'Latitude': [-22.9531, -23.0278, -22.8463, -22.8969],\n",
    "            'Longitude': [-43.1884, -43.4665, -43.3007, -43.3165]}\n",
    "dados = pd.DataFrame(pontos)\n"
   ]
  },
  {
   "cell_type": "code",
   "execution_count": 8,
   "id": "d4363f47",
   "metadata": {},
   "outputs": [],
   "source": [
    "# Convertendo o DataFrame em um GeoDataFrame\n",
    "geometry = [Point(x) for x in zip(dados.Longitude, dados.Latitude)]\n",
    "crs = {'init': 'epsg:4326'}\n",
    "geo_dados = gpd.GeoDataFrame(dados, crs = crs, geometry = geometry)\n"
   ]
  },
  {
   "cell_type": "code",
   "execution_count": 10,
   "id": "2e591ab7",
   "metadata": {},
   "outputs": [],
   "source": [
    "# Modificando o CRS dos GeoDataFrames\n",
    "geo_dados = geo_dados.to_crs('+proj=utm +zone=23 +south +ellps=GRS80 +towgs84=0,0,0,0,0,0,0 +units=km +no_defs')\n",
    "metro = metro.to_crs('+proj=utm +zone=23 +south +ellps=GRS80 +towgs84=0,0,0,0,0,0,0 +units=km +no_defs')\n"
   ]
  },
  {
   "cell_type": "code",
   "execution_count": 11,
   "id": "5045ed10",
   "metadata": {},
   "outputs": [],
   "source": [
    "# Criando as colunas com as respostas\n",
    "geo_dados['Metro_Perto'] = geo_dados['geometry'].apply(lambda x: metro['Nome'].iloc[metro.distance(x).idxmin()])\n",
    "geo_dados['Dist_Min'] = geo_dados['geometry'].apply(lambda x: \"{0:.2f} km\".format(metro.distance(x).min()))\n",
    "geo_dados['Metro_Longe'] = geo_dados['geometry'].apply(lambda x: metro['Nome'].iloc[metro.distance(x).idxmax()])\n",
    "geo_dados['Dist_Max'] = geo_dados['geometry'].apply(lambda x: \"{0:.2f} km\".format(metro.distance(x).max()))\n"
   ]
  },
  {
   "cell_type": "code",
   "execution_count": 12,
   "id": "e43be7e9",
   "metadata": {},
   "outputs": [
    {
     "data": {
      "text/html": [
       "<div>\n",
       "<style scoped>\n",
       "    .dataframe tbody tr th:only-of-type {\n",
       "        vertical-align: middle;\n",
       "    }\n",
       "\n",
       "    .dataframe tbody tr th {\n",
       "        vertical-align: top;\n",
       "    }\n",
       "\n",
       "    .dataframe thead th {\n",
       "        text-align: right;\n",
       "    }\n",
       "</style>\n",
       "<table border=\"1\" class=\"dataframe\">\n",
       "  <thead>\n",
       "    <tr style=\"text-align: right;\">\n",
       "      <th></th>\n",
       "      <th>Metro_Perto</th>\n",
       "      <th>Dist_Min</th>\n",
       "      <th>Metro_Longe</th>\n",
       "      <th>Dist_Max</th>\n",
       "    </tr>\n",
       "  </thead>\n",
       "  <tbody>\n",
       "    <tr>\n",
       "      <th>0</th>\n",
       "      <td>Botafogo</td>\n",
       "      <td>0.51 km</td>\n",
       "      <td>Pavuna</td>\n",
       "      <td>24.31 km</td>\n",
       "    </tr>\n",
       "    <tr>\n",
       "      <th>1</th>\n",
       "      <td>Jardim Oceânico</td>\n",
       "      <td>16.12 km</td>\n",
       "      <td>Cinelândia</td>\n",
       "      <td>32.51 km</td>\n",
       "    </tr>\n",
       "    <tr>\n",
       "      <th>2</th>\n",
       "      <td>Vicente de Carvalho</td>\n",
       "      <td>1.53 km</td>\n",
       "      <td>Ipanema / General Osório</td>\n",
       "      <td>18.65 km</td>\n",
       "    </tr>\n",
       "    <tr>\n",
       "      <th>3</th>\n",
       "      <td>Engenho da Rainha</td>\n",
       "      <td>3.77 km</td>\n",
       "      <td>Cardeal Arcoverde</td>\n",
       "      <td>15.80 km</td>\n",
       "    </tr>\n",
       "  </tbody>\n",
       "</table>\n",
       "</div>"
      ],
      "text/plain": [
       "           Metro_Perto  Dist_Min               Metro_Longe  Dist_Max\n",
       "0             Botafogo   0.51 km                    Pavuna  24.31 km\n",
       "1      Jardim Oceânico  16.12 km                Cinelândia  32.51 km\n",
       "2  Vicente de Carvalho   1.53 km  Ipanema / General Osório  18.65 km\n",
       "3    Engenho da Rainha   3.77 km         Cardeal Arcoverde  15.80 km"
      ]
     },
     "execution_count": 12,
     "metadata": {},
     "output_type": "execute_result"
    }
   ],
   "source": [
    "# Exibindo a solução do problema\n",
    "geo_dados[['Metro_Perto', 'Dist_Min', 'Metro_Longe', 'Dist_Max']]"
   ]
  }
 ],
 "metadata": {
  "kernelspec": {
   "display_name": "test_python",
   "language": "python",
   "name": "test_python"
  },
  "language_info": {
   "codemirror_mode": {
    "name": "ipython",
    "version": 3
   },
   "file_extension": ".py",
   "mimetype": "text/x-python",
   "name": "python",
   "nbconvert_exporter": "python",
   "pygments_lexer": "ipython3",
   "version": "3.9.7"
  }
 },
 "nbformat": 4,
 "nbformat_minor": 5
}
